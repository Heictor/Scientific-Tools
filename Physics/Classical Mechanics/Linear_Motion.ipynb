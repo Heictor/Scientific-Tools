{
 "cells": [
  {
   "cell_type": "code",
   "execution_count": 4,
   "metadata": {
    "collapsed": true,
    "pycharm": {
     "is_executing": false
    }
   },
   "outputs": [],
   "source": [
    "#Used libraries.\n",
    "import numpy as np\n",
    "import matplotlib.pyplot as plt\n",
    "import sympy as sy\n",
    "import pylab\n",
    "from scipy.misc import derivative as deriv\n"
   ]
  },
  {
   "cell_type": "code",
   "execution_count": 5,
   "outputs": [
    {
     "name": "stdout",
     "text": [
      "\n",
      "\n"
     ],
     "output_type": "stream"
    }
   ],
   "source": [
    "#This block is responsable for asking to the user the needed initial data.\n",
    "so=float(input('Insert the value of the initial position: '))\n",
    "vo=float(input('Insert the value of the initial speed: '))\n",
    "a=float(input('Insert the value of the initial acceleration: '))\n",
    "print(\"\\n\")"
   ],
   "metadata": {
    "collapsed": false,
    "pycharm": {
     "name": "#%%\n",
     "is_executing": false
    }
   }
  },
  {
   "cell_type": "code",
   "execution_count": 6,
   "outputs": [],
   "source": [
    "#Defining the position of the object as a function of time.(Equation-1.0)\n",
    "def S(t):\n",
    "    return so+vo*t+0.5*a*t**2"
   ],
   "metadata": {
    "collapsed": false,
    "pycharm": {
     "name": "#%%\n",
     "is_executing": false
    }
   }
  },
  {
   "cell_type": "code",
   "execution_count": 7,
   "outputs": [
    {
     "name": "stdout",
     "text": [
      "Result of the first derivative: \n",
      "-2.5*(t - 1.0)**2 + 2.5*(t + 1.0)**2 - 2.0\n",
      "10.0*t - 2.0\n",
      "-----------------------------------\n",
      "\n",
      "Result of the second derivative: \n",
      "-10.0*t**2 + 5.0*(t - 1.0)**2 + 5.0*(t + 1.0)**2\n",
      "10.0000000000000\n",
      "-----------------------------------\n",
      "\n"
     ],
     "output_type": "stream"
    }
   ],
   "source": [
    "t = sy.Symbol('t')\n",
    "print(\"Result of the first derivative: \")\n",
    "print(deriv(S, t))\n",
    "print(sy.diff(S(t), t))\n",
    "print(\"-----------------------------------\\n\")\n",
    "print(\"Result of the second derivative: \")\n",
    "print(deriv(S, t, n=2))\n",
    "print(sy.diff(S(t), t, 2))\n",
    "print(\"-----------------------------------\\n\")"
   ],
   "metadata": {
    "collapsed": false,
    "pycharm": {
     "name": "#%%\n",
     "is_executing": false
    }
   }
  },
  {
   "cell_type": "code",
   "execution_count": 8,
   "outputs": [],
   "source": [
    "#Defining the velocity of the object as the derivative of the first equation.(Equation-1.1)\n",
    "def V(t):\n",
    "    return deriv(S, t)"
   ],
   "metadata": {
    "collapsed": false,
    "pycharm": {
     "name": "#%%\n",
     "is_executing": false
    }
   }
  },
  {
   "cell_type": "code",
   "execution_count": 9,
   "outputs": [
    {
     "name": "stdout",
     "text": [
      "Roots of the quadratic equation\n",
      "[0.2 - 0.871779788708135*I, 0.2 + 0.871779788708135*I]\n",
      "-----------------------------------\n",
      "\n",
      "Roots of the linear equation\n",
      "[0.200000000000000]\n",
      "-----------------------------------\n",
      "\n"
     ],
     "output_type": "stream"
    }
   ],
   "source": [
    "'''\n",
    "The following structure solves the roots of both quadratic and linear equations\n",
    "The results are contained inside these brackets \"[]\"\n",
    "'''\n",
    "print(\"Roots of the quadratic equation\")\n",
    "sy.solve(S(t))\n",
    "print(sy.solve(S(t)))\n",
    "print(\"-----------------------------------\\n\")\n",
    "print(\"Roots of the linear equation\")\n",
    "sy.solve(V(t))\n",
    "print(sy.solve(V(t)))\n",
    "print(\"-----------------------------------\\n\")"
   ],
   "metadata": {
    "collapsed": false,
    "pycharm": {
     "name": "#%%\n",
     "is_executing": false
    }
   }
  },
  {
   "cell_type": "code",
   "execution_count": 10,
   "outputs": [
    {
     "name": "stdout",
     "text": [
      "0.2 3.8000000000000003\n"
     ],
     "output_type": "stream"
    }
   ],
   "source": [
    "tc1=-vo/a\n",
    "Sc1=S(tc1)\n",
    "print(tc1,Sc1)"
   ],
   "metadata": {
    "collapsed": false,
    "pycharm": {
     "name": "#%%\n",
     "is_executing": false
    }
   }
  },
  {
   "cell_type": "code",
   "execution_count": 11,
   "outputs": [
    {
     "data": {
      "text/plain": "<Figure size 432x288 with 1 Axes>",
      "image/png": "[encoded data removed]"
     },
     "metadata": {
      "needs_background": "light"
     },
     "output_type": "display_data"
    }
   ],
   "source": [
    "#Using matplotlib to plot graphic of Uniform Linear Motion With Variable Velocity\n",
    "t = np.linspace(0, 10, 1000)\n",
    "fig, ax = plt.subplots()\n",
    "ax.plot(t, S(t), 'r', linewidth=2.0)\n",
    "plt.axvline(color = 'black') #Vertical Line\n",
    "plt.axhline(S(0), ls = '--') #Dashed Horizontal Line\n",
    "ax.scatter(0, S(0), color='k', linewidth=4.0) #Black Dot\n",
    "ax.annotate(\"Dot 0\",\n",
    "            xy=(0, S(0)),\n",
    "            xycoords='data',\n",
    "            xytext=(so+2,so),\n",
    "            arrowprops=dict(arrowstyle=\"->\",connectionstyle=\"arc3\")\n",
    "            )\n",
    "plt.grid()\n",
    "plt.xlabel('Time(s)')\n",
    "plt.ylabel('Positions(m)')\n",
    "plt.title('Uniform Linear Motion With Variable Velocity')\n",
    "pylab.legend([\"Parabola\"],loc=2)\n",
    "plt.show()\n"
   ],
   "metadata": {
    "collapsed": false,
    "pycharm": {
     "name": "#%%\n",
     "is_executing": false
    }
   }
  },
  {
   "cell_type": "code",
   "execution_count": 12,
   "outputs": [
    {
     "name": "stdout",
     "text": [
      "0.2 -8.881784197001252e-16\n"
     ],
     "output_type": "stream"
    }
   ],
   "source": [
    "tc2=-vo/a;\n",
    "Sc2=V(tc2);\n",
    "print(tc2,Sc2)"
   ],
   "metadata": {
    "collapsed": false,
    "pycharm": {
     "name": "#%%\n",
     "is_executing": false
    }
   }
  },
  {
   "cell_type": "code",
   "execution_count": 13,
   "outputs": [
    {
     "data": {
      "text/plain": "<Figure size 432x288 with 1 Axes>",
      "image/png": "[encoded data removed]"
     },
     "metadata": {
      "needs_background": "light"
     },
     "output_type": "display_data"
    }
   ],
   "source": [
    "#Using matplotlib to plot graphic of Uniform Linear Motion With Constant Velocity\n",
    "t = np.linspace(0, 10, 1000)\n",
    "fig, ax = plt.subplots()\n",
    "ax.plot(t, V(t), 'r', linewidth=2.0)\n",
    "plt.axvline(color = 'black') #Vertical Line\n",
    "plt.axhline(V(0), ls = '--') #Dashed Horizontal Line\n",
    "ax.scatter(0, V(0), color='k', linewidth=4.0) #Esse é o ponto preto\n",
    "ax.annotate(\"Movement direction change\",\n",
    "            xy=(0, V(0)),\n",
    "            xycoords='data',\n",
    "            xytext=(3,0),\n",
    "            arrowprops=dict(arrowstyle=\"->\",connectionstyle=\"arc3\")\n",
    "            )\n",
    "plt.grid()\n",
    "plt.xlabel('Time(s)')\n",
    "plt.ylabel('Velocity(m/s)')\n",
    "plt.title('Uniform Linear Motion With Constant Velocity')\n",
    "pylab.legend([\"Straight Line\"],loc=2)\n",
    "plt.show()\n"
   ],
   "metadata": {
    "collapsed": false,
    "pycharm": {
     "name": "#%%\n",
     "is_executing": false
    }
   }
  }
 ],
 "metadata": {
  "kernelspec": {
   "display_name": "Python 3",
   "language": "python",
   "name": "python3"
  },
  "language_info": {
   "codemirror_mode": {
    "name": "ipython",
    "version": 2
   },
   "file_extension": ".py",
   "mimetype": "text/x-python",
   "name": "python",
   "nbconvert_exporter": "python",
   "pygments_lexer": "ipython2",
   "version": "2.7.6"
  },
  "pycharm": {
   "stem_cell": {
    "cell_type": "raw",
    "source": [],
    "metadata": {
     "collapsed": false
    }
   }
  }
 },
 "nbformat": 4,
 "nbformat_minor": 0
}